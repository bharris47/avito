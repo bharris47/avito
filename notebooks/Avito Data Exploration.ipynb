{
 "cells": [
  {
   "cell_type": "code",
   "execution_count": 11,
   "metadata": {},
   "outputs": [],
   "source": [
    "import csv\n",
    "import numpy as np"
   ]
  },
  {
   "cell_type": "code",
   "execution_count": 2,
   "metadata": {},
   "outputs": [],
   "source": [
    "TRAINING_SAMPLES = '/home/ben/.kaggle/competitions/avito-demand-prediction/train.csv'"
   ]
  },
  {
   "cell_type": "code",
   "execution_count": 3,
   "metadata": {},
   "outputs": [],
   "source": [
    "with open(TRAINING_SAMPLES) as f:\n",
    "    samples = list(csv.DictReader(f))"
   ]
  },
  {
   "cell_type": "code",
   "execution_count": 4,
   "metadata": {},
   "outputs": [
    {
     "data": {
      "text/plain": [
       "OrderedDict([('item_id', 'b912c3c6a6ad'),\n",
       "             ('user_id', 'e00f8ff2eaf9'),\n",
       "             ('region', 'Свердловская область'),\n",
       "             ('city', 'Екатеринбург'),\n",
       "             ('parent_category_name', 'Личные вещи'),\n",
       "             ('category_name', 'Товары для детей и игрушки'),\n",
       "             ('param_1', 'Постельные принадлежности'),\n",
       "             ('param_2', ''),\n",
       "             ('param_3', ''),\n",
       "             ('title', 'Кокоби(кокон для сна)'),\n",
       "             ('description',\n",
       "              'Кокон для сна малыша,пользовались меньше месяца.цвет серый'),\n",
       "             ('price', '400.0'),\n",
       "             ('item_seq_number', '2'),\n",
       "             ('activation_date', '2017-03-28'),\n",
       "             ('user_type', 'Private'),\n",
       "             ('image',\n",
       "              'd10c7e016e03247a3bf2d13348fe959fe6f436c1caf64c7679f17c333c959b19'),\n",
       "             ('image_top_1', '1008.0'),\n",
       "             ('deal_probability', '0.12789')])"
      ]
     },
     "execution_count": 4,
     "metadata": {},
     "output_type": "execute_result"
    }
   ],
   "source": [
    "samples[0]"
   ]
  },
  {
   "cell_type": "code",
   "execution_count": 5,
   "metadata": {},
   "outputs": [
    {
     "data": {
      "text/plain": [
       "1804"
      ]
     },
     "execution_count": 5,
     "metadata": {},
     "output_type": "execute_result"
    }
   ],
   "source": [
    "locations = {(sample['region'], sample['city']) for sample in samples}\n",
    "len(locations)"
   ]
  },
  {
   "cell_type": "code",
   "execution_count": 6,
   "metadata": {},
   "outputs": [
    {
     "data": {
      "text/plain": [
       "1503424"
      ]
     },
     "execution_count": 6,
     "metadata": {},
     "output_type": "execute_result"
    }
   ],
   "source": [
    "len(samples)"
   ]
  },
  {
   "cell_type": "code",
   "execution_count": 7,
   "metadata": {},
   "outputs": [],
   "source": [
    "texts = [' '.join([sample['title'], sample['description']]) for sample in samples]"
   ]
  },
  {
   "cell_type": "code",
   "execution_count": 8,
   "metadata": {},
   "outputs": [
    {
     "data": {
      "text/plain": [
       "1610"
      ]
     },
     "execution_count": 8,
     "metadata": {},
     "output_type": "execute_result"
    }
   ],
   "source": [
    "vocabulary = set(c for text in texts for c in text)\n",
    "len(vocabulary)"
   ]
  },
  {
   "cell_type": "code",
   "execution_count": 9,
   "metadata": {},
   "outputs": [
    {
     "data": {
      "text/plain": [
       "3236"
      ]
     },
     "execution_count": 9,
     "metadata": {},
     "output_type": "execute_result"
    }
   ],
   "source": [
    "max(len(text) for text in texts)"
   ]
  },
  {
   "cell_type": "code",
   "execution_count": 10,
   "metadata": {},
   "outputs": [],
   "source": [
    "text_lengths = [len(text) for text in texts]"
   ]
  },
  {
   "cell_type": "code",
   "execution_count": 13,
   "metadata": {},
   "outputs": [
    {
     "data": {
      "text/plain": [
       "716.0"
      ]
     },
     "execution_count": 13,
     "metadata": {},
     "output_type": "execute_result"
    }
   ],
   "source": [
    "np.percentile(text_lengths, 95)"
   ]
  }
 ],
 "metadata": {
  "kernelspec": {
   "display_name": "Python 3 (avito)",
   "language": "python",
   "name": "avito"
  },
  "language_info": {
   "codemirror_mode": {
    "name": "ipython",
    "version": 3
   },
   "file_extension": ".py",
   "mimetype": "text/x-python",
   "name": "python",
   "nbconvert_exporter": "python",
   "pygments_lexer": "ipython3",
   "version": "3.6.3"
  }
 },
 "nbformat": 4,
 "nbformat_minor": 2
}
